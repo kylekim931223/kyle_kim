{
 "cells": [
  {
   "cell_type": "markdown",
   "metadata": {},
   "source": [
    "인플루언서들의 이벤트용 QR 코드를 본 적이 있는데, 색상도 특이하고 사진도 붙어있던 것이 기억났다.\n",
    "\n",
    "인스타그램에 진심인 여자친구의 인플루언서 느낌의 커스터마이징 된 인스타그램 QR 코드를 만들어 보았다."
   ]
  },
  {
   "cell_type": "markdown",
   "metadata": {},
   "source": [
    "## 라이브러리 불러오기"
   ]
  },
  {
   "cell_type": "code",
   "execution_count": 1,
   "metadata": {},
   "outputs": [],
   "source": [
    "#pip install pillow"
   ]
  },
  {
   "cell_type": "code",
   "execution_count": 2,
   "metadata": {},
   "outputs": [],
   "source": [
    "import qrcode\n",
    "from PIL import Image"
   ]
  },
  {
   "cell_type": "markdown",
   "metadata": {},
   "source": [
    "### QR Code 에 사진,색상 을 이용하여 커스터마이징 하기"
   ]
  },
  {
   "cell_type": "code",
   "execution_count": 3,
   "metadata": {},
   "outputs": [],
   "source": [
    "#QR Code 썸네일 이미지 불러오기\n",
    "girl_img = Image.open(\"insta_girl.jpeg\")\n",
    "\n",
    "#QR Code 썸네일 크기 결정하기\n",
    "girl_img.thumbnail((120,120))\n",
    "\n",
    "qr=qrcode.QRCode(version=1, \n",
    "                 error_correction= qrcode.constants.ERROR_CORRECT_H,\n",
    "                 box_size=15, border=4)\n",
    "qr.add_data(\"https://www.instagram.com/__ryeong_/?hl=kr\")\n",
    "qr.make(fit = True)\n",
    "\n",
    "#QR Code 배경색과 코드 색상을 결정한다\n",
    "girl_insta=qr.make_image(fill_color = \"darkslategrey\", back_color = \"pink\").convert('RGB')"
   ]
  },
  {
   "cell_type": "markdown",
   "metadata": {},
   "source": [
    "- version 에 따라서 qrcode 의 크기와 복잡도가 결정된다 1~40 까지 있다\n",
    "- ERROR_CORRECT 는 L,M,Q,H 가 있고 각각 7%, 15%, 25%, 30% 이하 에러가 있어도 복원 가능\n",
    "- box_size는 qr code 박스 크기, border 는 qr code 와 qr box 의 경계선의 굵기\n",
    "- qr.make(fit=true) 로 하면 정보량에 따라 유동적으로 version 과 QR code 의 크기가 결정됨"
   ]
  },
  {
   "cell_type": "code",
   "execution_count": 4,
   "metadata": {},
   "outputs": [],
   "source": [
    "#썸네일 정중앙에 위치시키기\n",
    "pos = ((girl_insta.size[0] - girl_img.size[0])// 2,(girl_insta.size[1] - girl_img.size[1])//2)\n",
    "girl_insta.paste(girl_img, pos)"
   ]
  },
  {
   "cell_type": "code",
   "execution_count": 5,
   "metadata": {},
   "outputs": [],
   "source": [
    "#저장하기\n",
    "girl_insta.save(\"ryeong_insta.png\")"
   ]
  }
 ],
 "metadata": {
  "interpreter": {
   "hash": "a04e1936a8279292722c1dee4730d7414b74ec89bd57cee0a3482b9ac557871b"
  },
  "kernelspec": {
   "display_name": "Python 3.9.7 ('base')",
   "language": "python",
   "name": "python3"
  },
  "language_info": {
   "codemirror_mode": {
    "name": "ipython",
    "version": 3
   },
   "file_extension": ".py",
   "mimetype": "text/x-python",
   "name": "python",
   "nbconvert_exporter": "python",
   "pygments_lexer": "ipython3",
   "version": "3.9.7"
  },
  "orig_nbformat": 4
 },
 "nbformat": 4,
 "nbformat_minor": 2
}

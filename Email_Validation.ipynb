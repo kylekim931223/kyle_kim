{
 "cells": [
  {
   "cell_type": "markdown",
   "id": "c5f0ab12",
   "metadata": {},
   "source": [
    "## Email 생성 알고리즘"
   ]
  },
  {
   "cell_type": "code",
   "execution_count": 1,
   "id": "8c007fea",
   "metadata": {},
   "outputs": [
    {
     "name": "stdout",
     "output_type": "stream",
     "text": [
      " 이메일을 입력해주세요 : 1223kylekim@gmail.com\n",
      " 이메일 주소의 첫 글자가 알파벳 형식이 아닙니다\n"
     ]
    }
   ],
   "source": [
    "email  = input(\" 이메일을 입력해주세요 : \")\n",
    "k,j,d=0,0,0\n",
    "if len(email)>=6:\n",
    "    if email[0].isalpha():\n",
    "        if(\"@\" in email) and (email.count(\"@\") ==1):\n",
    "            if(email[-4]== \".\") ^ (email[-3]==\".\"):\n",
    "                for i in email:\n",
    "                    if i == i.isspace():\n",
    "                        k=1\n",
    "                    elif i.isalpha():\n",
    "                        if i== i.upper():\n",
    "                            j=1\n",
    "                    elif i.isdigit():\n",
    "                        continue\n",
    "                    elif i==\"_\"or i==\".\" or i==\"@\":\n",
    "                        continue\n",
    "                    else:\n",
    "                        d=1\n",
    "                    \n",
    "                if k==1 or d==1:\n",
    "                    print(\" 이메일 주소에 공백 혹은 '_' '.' '@' 을 제외한 특수문자를 사용할 수 없습니다\")\n",
    "                elif j==1:\n",
    "                    print(\" 이메일 주소에 대문자가 포함되어 있습니다\")\n",
    "                else:\n",
    "                    print(\" 환영합니다\")\n",
    "            else:\n",
    "                print(\" 이메일 주소가 올바르지 않습니다\")\n",
    "        else:\n",
    "            print(\" 이메일 주소를 정확하게 구분하여 주십시오\")\n",
    "    else:\n",
    "        print(\" 이메일 주소의 첫 글자가 알파벳 형식이 아닙니다\")\n",
    "else:\n",
    "    print(\" 이메일 주소 전체를 작성하여 주십시오\")\n",
    "    \n",
    "        "
   ]
  },
  {
   "cell_type": "markdown",
   "id": "51ffb9c1",
   "metadata": {},
   "source": [
    "#### 디테일한 에러메세지를 띄울 수 있으나 너무 길다 같은 기능을 하지만 더 짧게 만들어보자."
   ]
  },
  {
   "cell_type": "markdown",
   "id": "0aa58805",
   "metadata": {},
   "source": [
    "## Email 생성 알고리즘 (Short)"
   ]
  },
  {
   "cell_type": "code",
   "execution_count": 2,
   "id": "497c01d8",
   "metadata": {},
   "outputs": [
    {
     "name": "stdout",
     "output_type": "stream",
     "text": [
      " 이메일을 입력해주세요 : 1223kylekim@gmail.com\n",
      " 올바르지 않은 주소입니다\n"
     ]
    }
   ],
   "source": [
    "import re\n",
    "email_condition =\"^[a-z]+[\\._]?[a-z 0-9]+[@]\\w+[.]\\w{2,3}$\"\n",
    "user_email = input(' 이메일을 입력해주세요 : ')\n",
    "\n",
    "if re.search(email_condition, user_email):\n",
    "    print( \" 환영합니다\")\n",
    "else:\n",
    "    print( \" 올바르지 않은 주소입니다\")"
   ]
  }
 ],
 "metadata": {
  "kernelspec": {
   "display_name": "Python 3 (ipykernel)",
   "language": "python",
   "name": "python3"
  },
  "language_info": {
   "codemirror_mode": {
    "name": "ipython",
    "version": 3
   },
   "file_extension": ".py",
   "mimetype": "text/x-python",
   "name": "python",
   "nbconvert_exporter": "python",
   "pygments_lexer": "ipython3",
   "version": "3.9.7"
  }
 },
 "nbformat": 4,
 "nbformat_minor": 5
}
